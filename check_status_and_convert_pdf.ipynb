{
 "cells": [
  {
   "cell_type": "code",
   "execution_count": null,
   "metadata": {},
   "outputs": [],
   "source": [
    "import os\n",
    "import time\n",
    "\n",
    "path = '/home/hennes/Nigeria Election Results/images/'"
   ]
  },
  {
   "cell_type": "code",
   "execution_count": null,
   "metadata": {},
   "outputs": [],
   "source": [
    "# print number of image and text files in each ward\n",
    "\n",
    "# create list of direct directories of path\n",
    "subdirs = [e for e in os.listdir(path)]\n",
    "for dir in subdirs:\n",
    "    print(dir)\n",
    "    wards = [e for e in os.listdir(path+dir)]\n",
    "    for x in wards:\n",
    "        textcount = 0\n",
    "        imagecount = 0\n",
    "        for root, dirs, files in os.walk(path+dir+'/'+x):\n",
    "            textfiles = [f for f in files if f.endswith('.txt')]\n",
    "            imagefiles = [f for f in files if f.endswith('.jpg')]\n",
    "            textcount += len(textfiles)\n",
    "            imagecount += len(imagefiles)\n",
    "        print(f'\\t{x}: \\n\\timages:{imagecount}; text:{textcount} \\n')\n"
   ]
  },
  {
   "cell_type": "code",
   "execution_count": null,
   "metadata": {},
   "outputs": [],
   "source": [
    "# print number of image and text files in each LGA\n",
    "for dir in subdirs:\n",
    "    textcount = 0\n",
    "    imagecount = 0\n",
    "    for root, dirs, files in os.walk(path+dir):\n",
    "        textfiles = [f for f in files if f.endswith('.txt')]\n",
    "        imagefiles = [f for f in files if f.endswith('.jpg')]\n",
    "        textcount += len(textfiles)\n",
    "        imagecount += len(imagefiles)\n",
    "    print(f'{dir}: \\n images:{imagecount}; text:{textcount} \\n')"
   ]
  },
  {
   "cell_type": "code",
   "execution_count": null,
   "metadata": {},
   "outputs": [],
   "source": [
    "# some of the image files are in fact pdfs. The pdfs are larger than the jpg files\n",
    "# go through each directory and check the size of the files\n",
    "# if the file is larger than 1 MB, it is a pdf\n",
    "# in that case, rename the file to .pdf\n",
    "for dir in subdirs:\n",
    "    wards = [e for e in os.listdir(path+dir)]\n",
    "    for x in wards:\n",
    "        for root, dirs, files in os.walk(path+dir+'/'+x):\n",
    "            for f in files:\n",
    "                filepath = os.path.join(root, f)\n",
    "                if os.path.getsize(filepath) > 1000000:\n",
    "                    # strip .jpg from file name\n",
    "                    new_name = filepath[:-4]\n",
    "                    os.rename(filepath, new_name+'.pdf')"
   ]
  }
 ],
 "metadata": {
  "kernelspec": {
   "display_name": "Python 3",
   "language": "python",
   "name": "python3"
  },
  "language_info": {
   "codemirror_mode": {
    "name": "ipython",
    "version": 3
   },
   "file_extension": ".py",
   "mimetype": "text/x-python",
   "name": "python",
   "nbconvert_exporter": "python",
   "pygments_lexer": "ipython3",
   "version": "3.11.2"
  },
  "orig_nbformat": 4,
  "vscode": {
   "interpreter": {
    "hash": "e7370f93d1d0cde622a1f8e1c04877d8463912d04d973331ad4851f04de6915a"
   }
  }
 },
 "nbformat": 4,
 "nbformat_minor": 2
}
