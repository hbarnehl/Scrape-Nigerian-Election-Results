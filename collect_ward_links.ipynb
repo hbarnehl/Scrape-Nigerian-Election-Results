{
 "cells": [
  {
   "attachments": {},
   "cell_type": "markdown",
   "metadata": {},
   "source": [
    "# Scrape Nigerian Election Results"
   ]
  },
  {
   "attachments": {},
   "cell_type": "markdown",
   "metadata": {},
   "source": [
    "This is the first notebook used to scrape the Nigerian presidential 2023 election results from Lagos. This notebook collects the links to the wards in each LGA."
   ]
  },
  {
   "cell_type": "code",
   "execution_count": null,
   "metadata": {},
   "outputs": [],
   "source": [
    "import requests as req\n",
    "import pandas as pd\n",
    "from webdriver_manager.chrome import ChromeDriverManager\n",
    "from selenium import webdriver\n",
    "from selenium.webdriver.common.by import By\n",
    "from bs4 import BeautifulSoup\n",
    "import time\n",
    "import json\n",
    "import urllib\n",
    "import os\n",
    "import logging\n",
    "\n",
    "\n",
    "import pandas as pd\n",
    "# create dictionary of all LGAs : Wards\n",
    "\n",
    "base_url = 'https://inecelectionresults.ng/elections/63f8f25b594e164f8146a213?state=25'\n",
    "homepage = 'https://inecelectionresults.ng'\n",
    "LGA_dict = {}\n",
    "headers = req.utils.default_headers()\n",
    "headers['User-Agent'] = 'Mozilla/5.0 (X11; Linux x86_64) AppleWebKit/537.36 (KHTML, like Gecko) Chrome/56.0.2924.87 Safari/537.36'\n",
    "source = req.get(base_url, headers=headers).text\n",
    "soup = BeautifulSoup(source, \"html.parser\")\n",
    "driver = webdriver.Chrome(ChromeDriverManager().install())\n",
    "\n",
    "# open base url with selenium\n",
    "driver.get(base_url)\n",
    "\n",
    "# wait for page to load\n",
    "time.sleep(2)\n",
    "\n",
    "soup = BeautifulSoup(driver.page_source, \"html.parser\")\n",
    "# find all LGA names: all elements 'a' with class = bold\n",
    "LGAs = soup.find_all('a', class_ = 'bold')\n",
    "# extract text from each element\n",
    "LGA_names = [LGA.text for LGA in LGAs]\n",
    "# extract href from each element\n",
    "LGA_links = [homepage + LGA['href'] for LGA in LGAs]\n",
    "# open each LGA page and extract all ward names and links\n",
    "for i in range(len(LGA_links)):\n",
    "    LGA_dict[LGA_names[i]] = {}\n",
    "    # open LGA page with selenium\n",
    "    driver.get(LGA_links[i])\n",
    "    # wait for page to load\n",
    "    time.sleep(2)\n",
    "    soup = BeautifulSoup(driver.page_source, \"html.parser\")\n",
    "    # find all ward names: all elements 'a' with class = bold\n",
    "    wards = soup.find_all('a', class_ = 'bold')\n",
    "    # extract text from each element\n",
    "    ward_names = [ward.text for ward in wards]\n",
    "    # extract href from each element\n",
    "    ward_links = [ward['href'] for ward in wards]\n",
    "    # add ward names and links to dictionary\n",
    "    for j in range(len(ward_links)):\n",
    "        LGA_dict[LGA_names[i]][ward_names[j]] = ward_links[j]\n",
    "# create new dictionary with layout LGA : ward : ward_link = link\n",
    "LGA_dict2 = {}\n",
    "for LGA in LGA_dict:\n",
    "    LGA_dict2[LGA] = {}\n",
    "    for ward in LGA_dict[LGA]:\n",
    "        LGA_dict2[LGA][ward] = {} \n",
    "        LGA_dict2[LGA][ward] = {'link':homepage + LGA_dict[LGA][ward]}\n",
    "# add value 'done' to each ward in dictionary\n",
    "for LGA in LGA_dict2:\n",
    "    for ward in LGA_dict2[LGA]:\n",
    "        # add key value pair 'done' to each ward in dictionary\n",
    "        LGA_dict2[LGA][ward]['done'] = False\n",
    "\n",
    "# save dictionary to json file\n",
    "import json\n",
    "with open('LGA_dict.json', 'w') as fp:\n",
    "    json.dump(LGA_dict2, fp)\n",
    "    "
   ]
  }
 ],
 "metadata": {
  "kernelspec": {
   "display_name": "Python 3",
   "language": "python",
   "name": "python3"
  },
  "language_info": {
   "codemirror_mode": {
    "name": "ipython",
    "version": 3
   },
   "file_extension": ".py",
   "mimetype": "text/x-python",
   "name": "python",
   "nbconvert_exporter": "python",
   "pygments_lexer": "ipython3",
   "version": "3.11.2"
  },
  "orig_nbformat": 4,
  "vscode": {
   "interpreter": {
    "hash": "e7370f93d1d0cde622a1f8e1c04877d8463912d04d973331ad4851f04de6915a"
   }
  }
 },
 "nbformat": 4,
 "nbformat_minor": 2
}
